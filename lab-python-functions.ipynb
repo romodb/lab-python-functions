{
 "cells": [
  {
   "cell_type": "markdown",
   "id": "25d7736c-ba17-4aff-b6bb-66eba20fbf4e",
   "metadata": {},
   "source": [
    "# Lab | Functions"
   ]
  },
  {
   "cell_type": "markdown",
   "id": "0c581062-8967-4d93-b06e-62833222f930",
   "metadata": {
    "tags": []
   },
   "source": [
    "## Exercise: Managing Customer Orders with Functions\n",
    "\n",
    "In the previous exercise, you improved the code for managing customer orders by using loops and flow control. Now, let's take it a step further and refactor the code by introducing functions.\n",
    "\n",
    "Follow the steps below to complete the exercise:\n",
    "\n",
    "1. Define a function named `initialize_inventory` that takes `products` as a parameter. Inside the function, implement the code for initializing the inventory dictionary using a loop and user input.\n",
    "\n",
    "2. Define a function named `get_customer_orders` that takes no parameters. Inside the function, implement the code for prompting the user to enter the product names using a loop. The function should return the `customer_orders` set.\n",
    "\n",
    "3. Define a function named `update_inventory` that takes `customer_orders` and `inventory` as parameters. Inside the function, implement the code for updating the inventory dictionary based on the customer orders.\n",
    "\n",
    "4. Define a function named `calculate_order_statistics` that takes `customer_orders` and `products` as parameters. Inside the function, implement the code for calculating the order statistics (total products ordered, and percentage of unique products ordered). The function should return these values.\n",
    "\n",
    "5. Define a function named `print_order_statistics` that takes `order_statistics` as a parameter. Inside the function, implement the code for printing the order statistics.\n",
    "\n",
    "6. Define a function named `print_updated_inventory` that takes `inventory` as a parameter. Inside the function, implement the code for printing the updated inventory.\n",
    "\n",
    "7. Call the functions in the appropriate sequence to execute the program and manage customer orders.\n",
    "\n",
    "Hints for functions:\n",
    "\n",
    "- Consider the input parameters required for each function and their return values.\n",
    "- Utilize function parameters and return values to transfer data between functions.\n",
    "- Test your functions individually to ensure they work correctly.\n",
    "\n",
    "\n"
   ]
  },
  {
   "cell_type": "code",
   "execution_count": 59,
   "id": "3a37a323",
   "metadata": {},
   "outputs": [],
   "source": [
    "def ini_inventory(products):\n",
    "    \"inventario\" == {\n",
    "        \"hat\" : 4,\n",
    "        \"book\" : 5,\n",
    "        \"key-chane\" : 7,\n",
    "        \"mug\" : 2\n",
    "    }\n",
    "    for product in products:\n",
    "        while True:\n",
    "            try:\n",
    "                cantidad = int(input(f\"Ingrese la cantidad disponible para {product}: \"))\n",
    "                if cantidad < 0:\n",
    "                    print(\"La cantidad no puede ser negativa. Inténtalo de nuevo.\")\n",
    "                else:\n",
    "                    break\n",
    "            except ValueError:\n",
    "                print(\"Por favor, ingresa un número válido.\")"
   ]
  },
  {
   "cell_type": "code",
   "execution_count": 60,
   "id": "367d620c",
   "metadata": {},
   "outputs": [
    {
     "name": "stdout",
     "output_type": "stream",
     "text": [
      "Muchas gracias por tu compra\n"
     ]
    }
   ],
   "source": [
    "def get_customers_orders():\n",
    "    customers_orders = set()\n",
    "    while True:\n",
    "        product = input(\"Por favor escribe lo que quieras comprar, si deseas cancelar la compra escribe salir\").strip()\n",
    "        if product.lower() == \"salir\":\n",
    "            print(\"Muchas gracias por tu compra\")\n",
    "            break\n",
    "        if product:\n",
    "            customers_orders.add(product)  \n",
    "            input(\"¿Quieres añadir algo mas?, si quieres salir escribe salir\")\n",
    "        else:\n",
    "            print(f\"No tenemos {product} en el inventario, por favor intentalo de nuevo\")\n",
    "    return customers_orders\n",
    "\n",
    "pedidos = get_customers_orders()\n"
   ]
  },
  {
   "cell_type": "code",
   "execution_count": 61,
   "id": "0f5541cc",
   "metadata": {},
   "outputs": [],
   "source": [
    "inventario = {\n",
    "        \"hat\" : 4,\n",
    "        \"book\" : 5,\n",
    "        \"key-chane\" : 7,\n",
    "        \"mug\" : 2\n",
    "    }\n",
    "\n",
    "def update_inventory(customers_orders, inventario):\n",
    "    for product in customers_orders:\n",
    "        if product in inventario:\n",
    "            if inventario[product] >= 1:\n",
    "                print(f\"Quedan {inventario[product]} en el almacen\")\n",
    "            else:\n",
    "                print(\"Te falta stock\")\n",
    "        else:\n",
    "            print(\"No es un artículo de nuestro catálogo\")\n",
    "    \n",
    "    return inventario"
   ]
  },
  {
   "cell_type": "code",
   "execution_count": 62,
   "id": "c85ccc23",
   "metadata": {},
   "outputs": [],
   "source": [
    "def calculate_order_statistics(customer_orders, products):\n",
    "    total_products_ordered = len(customer_orders)\n",
    "    \n",
    "    total_unique_products = len(products)  \n",
    "    if total_unique_products > 0:\n",
    "        percentage_unique_ordered = (len(customer_orders) / total_unique_products) * 100\n",
    "    else:\n",
    "        percentage_unique_ordered = 0  \n",
    "\n",
    "    return total_products_ordered, percentage_unique_ordered"
   ]
  },
  {
   "cell_type": "code",
   "execution_count": 63,
   "id": "32127a10",
   "metadata": {},
   "outputs": [],
   "source": [
    "order_statistics = {\n",
    "    \"total_items\": 60,\n",
    "    \"coste_total\": 55,\n",
    "    \"items\": [\n",
    "        {\"name\": \"key-chane\", \"quantity\": 10, \"price\": 5},\n",
    "        {\"name\": \"Mug\", \"quantity\": 25, \"price\": 15},\n",
    "        {\"name\": \"Book\", \"quantity\": 10, \"price\": 20},\n",
    "        {\"name\": \"Hat\", \"quantity\": 15, \"price\": 15}\n",
    "    ]\n",
    "}\n",
    "\n",
    "def print_order_statistics(order_statistics):\n",
    "    total_items = order_statistics.get(\"total_items\", 0)\n",
    "    total_cost = order_statistics.get(\"coste_total\", 0.0)\n",
    "\n",
    "    print(f\"Estadísticas del Pedido:\")\n",
    "    print(f\"Total de artículos: {total_items}\")\n",
    "    print(f\"Costo total: ${total_cost:.2f}\")\n",
    "    \n",
    "\n",
    "    print(\"\\nDetalles de los productos:\") \n",
    "    for item in order_statistics.get(\"items\", []):\n",
    "        name = item.get(\"name\", \"Desconocido\")\n",
    "        quantity = item.get(\"quantity\", 0)\n",
    "        price = item.get(\"price\", 0.0)\n",
    "        print(f\"- Producto: {name}, Cantidad: {quantity}, Precio: {price:.2f}€\")"
   ]
  },
  {
   "cell_type": "code",
   "execution_count": 64,
   "id": "b9052940",
   "metadata": {},
   "outputs": [],
   "source": [
    "def print_updated_inventory(inventario):\n",
    "    for item, cantidad in inventario.items():\n",
    "        print(f\"{item}: {cantidad}\")"
   ]
  },
  {
   "cell_type": "code",
   "execution_count": 65,
   "id": "47f5fb5e",
   "metadata": {},
   "outputs": [
    {
     "data": {
      "text/plain": [
       "<function __main__.print_order_statistics(order_statistics)>"
      ]
     },
     "execution_count": 65,
     "metadata": {},
     "output_type": "execute_result"
    }
   ],
   "source": [
    "ini_inventory\n",
    "get_customers_orders\n",
    "update_inventory\n",
    "print_updated_inventory\n",
    "calculate_order_statistics\n",
    "print_order_statistics"
   ]
  }
 ],
 "metadata": {
  "kernelspec": {
   "display_name": "Python 3 (ipykernel)",
   "language": "python",
   "name": "python3"
  },
  "language_info": {
   "codemirror_mode": {
    "name": "ipython",
    "version": 3
   },
   "file_extension": ".py",
   "mimetype": "text/x-python",
   "name": "python",
   "nbconvert_exporter": "python",
   "pygments_lexer": "ipython3",
   "version": "3.12.5"
  }
 },
 "nbformat": 4,
 "nbformat_minor": 5
}
